{
 "cells": [
  {
   "cell_type": "code",
   "execution_count": 11,
   "metadata": {
    "collapsed": false
   },
   "outputs": [
    {
     "name": "stdout",
     "output_type": "stream",
     "text": [
      "[[ 0.24]\n",
      " [ 0.22]\n",
      " [ 0.22]\n",
      " ..., \n",
      " [ 0.26]\n",
      " [ 0.26]\n",
      " [ 0.26]]\n",
      "[16 40 32 ..., 90 61 49]\n"
     ]
    }
   ],
   "source": [
    "#import required libraries\n",
    "import numpy as np\n",
    "import matplotlib.pyplot as plt\n",
    "import pandas as pd\n",
    "from sklearn.cross_validation import train_test_split\n",
    "from sklearn.ensemble import RandomForestRegressor\n",
    "\n",
    "#Fetch Dataset\n",
    "dataset = pd.read_csv('bike_sharing.csv')\n",
    "\n",
    "#Get independent features\n",
    "X = dataset[['temp']].values\n",
    "print(X)\n",
    "\n",
    "#Get dependent features\n",
    "Y = dataset.iloc[:, -1].values\n",
    "print(Y)"
   ]
  },
  {
   "cell_type": "code",
   "execution_count": 12,
   "metadata": {
    "collapsed": false
   },
   "outputs": [
    {
     "name": "stdout",
     "output_type": "stream",
     "text": [
      "X_train ->  [[ 0.84]\n",
      " [ 0.58]\n",
      " [ 0.86]\n",
      " ..., \n",
      " [ 0.24]\n",
      " [ 0.42]\n",
      " [ 0.64]]\n",
      "X_test ->  [[ 0.56]\n",
      " [ 0.44]\n",
      " [ 0.44]\n",
      " ..., \n",
      " [ 0.44]\n",
      " [ 0.28]\n",
      " [ 0.4 ]]\n",
      "Y_train ->  [243 183 494 ...,   6  69 530]\n",
      "Y_test ->  [  7   5 743 ..., 155 137 154]\n"
     ]
    }
   ],
   "source": [
    "\n",
    "X_train, X_test, Y_train, Y_test = train_test_split(X, Y, test_size = 1/3, random_state = 0)\n",
    "\n",
    "print('X_train -> ', X_train)\n",
    "print('X_test -> ', X_test)\n",
    "print('Y_train -> ', Y_train)\n",
    "print('Y_test -> ', Y_test)"
   ]
  },
  {
   "cell_type": "code",
   "execution_count": 15,
   "metadata": {
    "collapsed": false
   },
   "outputs": [
    {
     "name": "stdout",
     "output_type": "stream",
     "text": [
      "[ 213.96169706  155.16486835  155.16486835 ...,  155.16486835  105.97019766\n",
      "  164.78191018]\n"
     ]
    }
   ],
   "source": [
    "\n",
    "regressor = RandomForestRegressor(n_estimators = 100, random_state = 0)\n",
    "regressor.fit(X_train, Y_train)\n",
    "\n",
    "pred = regressor.predict(X_test)\n",
    "print(pred)"
   ]
  },
  {
   "cell_type": "code",
   "execution_count": 17,
   "metadata": {
    "collapsed": true
   },
   "outputs": [],
   "source": [
    "X_grid = np.arange(min(X_train), max(X_train), 0.01)\n",
    "X_grid = X_grid.reshape((len(X_grid), 1))\n",
    "plt.scatter(X_test, Y_test, color = 'red')\n",
    "plt.plot(X_grid, regressor.predict(X_grid), color = 'blue')\n",
    "plt.title('Random Forest Regression')\n",
    "plt.xlabel('Temperature')\n",
    "plt.ylabel('Count')\n",
    "plt.show()"
   ]
  }
 ],
 "metadata": {
  "anaconda-cloud": {},
  "kernelspec": {
   "display_name": "Python [Root]",
   "language": "python",
   "name": "Python [Root]"
  },
  "language_info": {
   "codemirror_mode": {
    "name": "ipython",
    "version": 3
   },
   "file_extension": ".py",
   "mimetype": "text/x-python",
   "name": "python",
   "nbconvert_exporter": "python",
   "pygments_lexer": "ipython3",
   "version": "3.5.2"
  }
 },
 "nbformat": 4,
 "nbformat_minor": 0
}
