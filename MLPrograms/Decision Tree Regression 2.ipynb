{
 "cells": [
  {
   "cell_type": "code",
   "execution_count": 1,
   "metadata": {
    "collapsed": false
   },
   "outputs": [
    {
     "name": "stdout",
     "output_type": "stream",
     "text": [
      "[[ 0.24]\n",
      " [ 0.22]\n",
      " [ 0.22]\n",
      " ..., \n",
      " [ 0.26]\n",
      " [ 0.26]\n",
      " [ 0.26]] (17379, 1)\n",
      "[[16]\n",
      " [40]\n",
      " [32]\n",
      " ..., \n",
      " [90]\n",
      " [61]\n",
      " [49]] (17379, 1)\n"
     ]
    }
   ],
   "source": [
    "import numpy as np\n",
    "import matplotlib.pyplot as plt\n",
    "import pandas as pd\n",
    "from sklearn.cross_validation import train_test_split\n",
    "from sklearn.tree import DecisionTreeRegressor\n",
    "\n",
    "dataset = pd.read_csv('bike_sharing.csv')\n",
    "X = dataset[['temp']].values\n",
    "print(X, X.shape)\n",
    "Y = dataset[['cnt']].values\n",
    "print(Y, Y.shape)"
   ]
  },
  {
   "cell_type": "code",
   "execution_count": 2,
   "metadata": {
    "collapsed": false
   },
   "outputs": [
    {
     "name": "stdout",
     "output_type": "stream",
     "text": [
      "X_train ->  [[ 0.84]\n",
      " [ 0.58]\n",
      " [ 0.86]\n",
      " ..., \n",
      " [ 0.24]\n",
      " [ 0.42]\n",
      " [ 0.64]] (11586, 1)\n",
      "X_test ->  [[ 0.56]\n",
      " [ 0.44]\n",
      " [ 0.44]\n",
      " ..., \n",
      " [ 0.44]\n",
      " [ 0.28]\n",
      " [ 0.4 ]] (5793, 1)\n",
      "Y_train ->  [[243]\n",
      " [183]\n",
      " [494]\n",
      " ..., \n",
      " [  6]\n",
      " [ 69]\n",
      " [530]] (11586, 1)\n",
      "Y_test ->  [[  7]\n",
      " [  5]\n",
      " [743]\n",
      " ..., \n",
      " [155]\n",
      " [137]\n",
      " [154]] (5793, 1)\n"
     ]
    }
   ],
   "source": [
    "\n",
    "X_train, X_test, Y_train, Y_test = train_test_split(X, Y, test_size = 1/3, random_state = 0)\n",
    "\n",
    "print('X_train -> ', X_train, X_train.shape)\n",
    "print('X_test -> ', X_test, X_test.shape)\n",
    "print('Y_train -> ', Y_train, Y_train.shape)\n",
    "print('Y_test -> ', Y_test, Y_test.shape)"
   ]
  },
  {
   "cell_type": "code",
   "execution_count": 3,
   "metadata": {
    "collapsed": false
   },
   "outputs": [
    {
     "name": "stdout",
     "output_type": "stream",
     "text": [
      "[ 214.25531915  155.60349854  155.60349854 ...,  155.60349854  105.66197183\n",
      "  165.17369727] (5793,)\n"
     ]
    }
   ],
   "source": [
    "\n",
    "regressor = DecisionTreeRegressor()\n",
    "regressor.fit(X_train, Y_train)\n",
    "\n",
    "pred = regressor.predict(X_test)\n",
    "\n",
    "print(pred, pred.shape)"
   ]
  },
  {
   "cell_type": "code",
   "execution_count": 4,
   "metadata": {
    "collapsed": false
   },
   "outputs": [],
   "source": [
    "plt.bar(X_test, Y_test, color='red', alpha=0.5)\n",
    "plt.plot(X_train, regressor.predict(X_train), color='blue')\n",
    "plt.show()"
   ]
  },
  {
   "cell_type": "code",
   "execution_count": 8,
   "metadata": {
    "collapsed": false
   },
   "outputs": [],
   "source": [
    "X_grid = np.arange(min(X_train), max(X_train), 0.01)\n",
    "X_grid = X_grid.reshape((len(X_grid), 1))\n",
    "plt.scatter(X_test, Y_test, color = 'red')\n",
    "plt.plot(X_grid, regressor.predict(X_grid), color = 'blue')\n",
    "plt.title('Decision Tree Regression')\n",
    "plt.xlabel('X axis')\n",
    "plt.ylabel('Y axis')\n",
    "plt.show()"
   ]
  },
  {
   "cell_type": "code",
   "execution_count": 7,
   "metadata": {
    "collapsed": false
   },
   "outputs": [
    {
     "name": "stdout",
     "output_type": "stream",
     "text": [
      "0.179671992778\n"
     ]
    }
   ],
   "source": [
    "score = regressor.score(X_test, Y_test)\n",
    "print(score)"
   ]
  }
 ],
 "metadata": {
  "anaconda-cloud": {},
  "kernelspec": {
   "display_name": "Python [Root]",
   "language": "python",
   "name": "Python [Root]"
  },
  "language_info": {
   "codemirror_mode": {
    "name": "ipython",
    "version": 3
   },
   "file_extension": ".py",
   "mimetype": "text/x-python",
   "name": "python",
   "nbconvert_exporter": "python",
   "pygments_lexer": "ipython3",
   "version": "3.5.2"
  }
 },
 "nbformat": 4,
 "nbformat_minor": 0
}
