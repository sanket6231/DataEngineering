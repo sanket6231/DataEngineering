{
 "cells": [
  {
   "cell_type": "code",
   "execution_count": 1,
   "metadata": {
    "collapsed": false,
    "scrolled": true
   },
   "outputs": [
    {
     "name": "stdout",
     "output_type": "stream",
     "text": [
      "[[ 0.24]\n",
      " [ 0.22]\n",
      " [ 0.22]\n",
      " ..., \n",
      " [ 0.26]\n",
      " [ 0.26]\n",
      " [ 0.26]]\n",
      "[[16]\n",
      " [40]\n",
      " [32]\n",
      " ..., \n",
      " [90]\n",
      " [61]\n",
      " [49]]\n"
     ]
    }
   ],
   "source": [
    "#import required libraries\n",
    "import numpy as np\n",
    "import matplotlib.pyplot as plt\n",
    "import pandas as pd\n",
    "from sklearn.cross_validation import train_test_split\n",
    "from sklearn.linear_model import LinearRegression\n",
    "\n",
    "#Fetch Dataset\n",
    "dataset = pd.read_csv('bike_sharing.csv')\n",
    "\n",
    "#Get independent features\n",
    "X = dataset[['temp']].values\n",
    "print(X)\n",
    "\n",
    "#Get dependent features\n",
    "Y = dataset[['cnt']].values\n",
    "print(Y)"
   ]
  },
  {
   "cell_type": "code",
   "execution_count": 2,
   "metadata": {
    "collapsed": false,
    "scrolled": true
   },
   "outputs": [
    {
     "name": "stdout",
     "output_type": "stream",
     "text": [
      "X_train ->  [[ 0.84]\n",
      " [ 0.58]\n",
      " [ 0.86]\n",
      " ..., \n",
      " [ 0.24]\n",
      " [ 0.42]\n",
      " [ 0.64]]\n",
      "X_test ->  [[ 0.56]\n",
      " [ 0.44]\n",
      " [ 0.44]\n",
      " ..., \n",
      " [ 0.44]\n",
      " [ 0.28]\n",
      " [ 0.4 ]]\n",
      "Y_train ->  [[243]\n",
      " [183]\n",
      " [494]\n",
      " ..., \n",
      " [  6]\n",
      " [ 69]\n",
      " [530]]\n",
      "Y_test ->  [[  7]\n",
      " [  5]\n",
      " [743]\n",
      " ..., \n",
      " [155]\n",
      " [137]\n",
      " [154]]\n"
     ]
    }
   ],
   "source": [
    "#Splitting dataset into train and test set\n",
    "\n",
    "X_train, X_test, Y_train, Y_test = train_test_split(X, Y, test_size = 1/3, random_state = 0)\n",
    "\n",
    "print('X_train -> ', X_train)\n",
    "print('X_test -> ', X_test)\n",
    "print('Y_train -> ', Y_train)\n",
    "print('Y_test -> ', Y_test)"
   ]
  },
  {
   "cell_type": "code",
   "execution_count": 3,
   "metadata": {
    "collapsed": false
   },
   "outputs": [
    {
     "name": "stdout",
     "output_type": "stream",
     "text": [
      "[[ 212.65232843]\n",
      " [ 167.53719989]\n",
      " [ 167.53719989]\n",
      " ..., \n",
      " [ 167.53719989]\n",
      " [ 107.38369517]\n",
      " [ 152.49882371]]\n"
     ]
    }
   ],
   "source": [
    "#Build the model\n",
    "\n",
    "regressor = LinearRegression()\n",
    "regressor.fit(X_train, Y_train)\n",
    "\n",
    "pred = regressor.predict(X_test)\n",
    "print(pred)"
   ]
  },
  {
   "cell_type": "code",
   "execution_count": 4,
   "metadata": {
    "collapsed": false
   },
   "outputs": [],
   "source": [
    "#Plot the model (Training data)\n",
    "plt.title('SLR to predict no. of bikes getting shared based on the temp of the day ')\n",
    "plt.scatter(X_train, Y_train, color='red')\n",
    "plt.plot(X_train, regressor.predict(X_train), color='blue')\n",
    "plt.xlabel('Temperature')\n",
    "plt.ylabel('Count of bikes')\n",
    "plt.show()"
   ]
  },
  {
   "cell_type": "code",
   "execution_count": 33,
   "metadata": {
    "collapsed": true
   },
   "outputs": [],
   "source": [
    "#Plot the model (Test data)\n",
    "plt.title('SLR to predict no. of bikes getting shared based on the temp of the day ')\n",
    "plt.scatter(X_test, Y_test, color='red')\n",
    "plt.plot(X_train, regressor.predict(X_train), color='blue')\n",
    "plt.xlabel('Temperature')\n",
    "plt.ylabel('Count of bikes')\n",
    "plt.show()"
   ]
  }
 ],
 "metadata": {
  "kernelspec": {
   "display_name": "Python [Root]",
   "language": "python",
   "name": "Python [Root]"
  },
  "language_info": {
   "codemirror_mode": {
    "name": "ipython",
    "version": 3
   },
   "file_extension": ".py",
   "mimetype": "text/x-python",
   "name": "python",
   "nbconvert_exporter": "python",
   "pygments_lexer": "ipython3",
   "version": "3.5.2"
  }
 },
 "nbformat": 4,
 "nbformat_minor": 0
}
